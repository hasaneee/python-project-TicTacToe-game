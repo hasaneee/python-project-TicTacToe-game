{
 "cells": [
  {
   "cell_type": "code",
   "execution_count": 1,
   "metadata": {},
   "outputs": [],
   "source": [
    "from IPython.display import clear_output\n",
    "def display_board(board):\n",
    "    clear_output()\n",
    "    print(' ' + board[7] + ' | ' + board[8] + ' | ' + board[9])\n",
    "    print('-----------')\n",
    "    print(' ' + board[4] + ' | ' + board[5] + ' | ' + board[6])\n",
    "    print('-----------')\n",
    "    print(' ' + board[1] + ' | ' + board[2] + ' | ' + board[3])"
   ]
  },
  {
   "cell_type": "code",
   "execution_count": 2,
   "metadata": {},
   "outputs": [
    {
     "name": "stdout",
     "output_type": "stream",
     "text": [
      " O | X | O\n",
      "-----------\n",
      " O | X | X\n",
      "-----------\n",
      " X | X | X\n"
     ]
    }
   ],
   "source": [
    "test_board = ['#', 'X', 'X', 'X', 'O', 'X', 'X', 'O', 'X', 'O']\n",
    "display_board(test_board)"
   ]
  },
  {
   "cell_type": "code",
   "execution_count": 3,
   "metadata": {},
   "outputs": [],
   "source": [
    "def player_input():\n",
    "    marker = ''\n",
    "    while not(marker == 'X' or marker == 'O'):\n",
    "        marker = input('Player 1: Choose X or O: ').upper()\n",
    "        if marker == 'X':\n",
    "            return ('X', 'O')\n",
    "        elif marker == 'O':\n",
    "            return ('O', 'X')"
   ]
  },
  {
   "cell_type": "code",
   "execution_count": 4,
   "metadata": {},
   "outputs": [
    {
     "name": "stdout",
     "output_type": "stream",
     "text": [
      "Player 1: Choose X or O: x\n"
     ]
    },
    {
     "data": {
      "text/plain": [
       "('X', 'O')"
      ]
     },
     "execution_count": 4,
     "metadata": {},
     "output_type": "execute_result"
    }
   ],
   "source": [
    "player_input()"
   ]
  },
  {
   "cell_type": "code",
   "execution_count": 5,
   "metadata": {},
   "outputs": [],
   "source": [
    "def place_marker(board, position, marker):\n",
    "    board[position] = marker"
   ]
  },
  {
   "cell_type": "code",
   "execution_count": 6,
   "metadata": {},
   "outputs": [
    {
     "name": "stdout",
     "output_type": "stream",
     "text": [
      " O | X | O\n",
      "-----------\n",
      " O | # | X\n",
      "-----------\n",
      " X | X | X\n"
     ]
    }
   ],
   "source": [
    "place_marker(test_board, 5, '#')\n",
    "display_board(test_board)"
   ]
  },
  {
   "cell_type": "code",
   "execution_count": 7,
   "metadata": {},
   "outputs": [],
   "source": [
    "def win_check(board, mark):\n",
    "    #Win Tic Toc Toe\n",
    "    \n",
    "    #All row check\n",
    "    return((board[1] == mark and board[2] == mark and board[3] == mark) or\n",
    "    (board[4] == mark and board[5] == mark and board[6] == mark) or\n",
    "    (board[7] == mark and board[8] == mark and board[9] == mark) or\n",
    "    #All Column check\n",
    "    (board[1] == mark and board[4] == mark and board[7] == mark) or\n",
    "    (board[2] == mark and board[5] == mark and board[8] == mark) or\n",
    "    (board[3] == mark and board[6] == mark and board[9] == mark) or\n",
    "    #2  diagonals check\n",
    "    (board[1] == mark and board[5] == mark and board[9] == mark) or\n",
    "    (board[3] == mark and board[5] == mark and board[7] == mark))"
   ]
  },
  {
   "cell_type": "code",
   "execution_count": 8,
   "metadata": {},
   "outputs": [
    {
     "data": {
      "text/plain": [
       "True"
      ]
     },
     "execution_count": 8,
     "metadata": {},
     "output_type": "execute_result"
    }
   ],
   "source": [
    "win_check(test_board, 'X')"
   ]
  },
  {
   "cell_type": "code",
   "execution_count": 9,
   "metadata": {},
   "outputs": [],
   "source": [
    "import random\n",
    "def choose_first():\n",
    "    flip = random.randint(0,1)\n",
    "    if flip == 0:\n",
    "        return 'Player 1'\n",
    "    else:\n",
    "        return 'player 2'"
   ]
  },
  {
   "cell_type": "code",
   "execution_count": 10,
   "metadata": {},
   "outputs": [
    {
     "data": {
      "text/plain": [
       "'player 2'"
      ]
     },
     "execution_count": 10,
     "metadata": {},
     "output_type": "execute_result"
    }
   ],
   "source": [
    "choose_first()"
   ]
  },
  {
   "cell_type": "code",
   "execution_count": 11,
   "metadata": {},
   "outputs": [],
   "source": [
    "def space_check(board, position):\n",
    "    return board[position] == ' '"
   ]
  },
  {
   "cell_type": "code",
   "execution_count": 12,
   "metadata": {},
   "outputs": [
    {
     "data": {
      "text/plain": [
       "False"
      ]
     },
     "execution_count": 12,
     "metadata": {},
     "output_type": "execute_result"
    }
   ],
   "source": [
    "space_check(test_board, 5)"
   ]
  },
  {
   "cell_type": "code",
   "execution_count": 13,
   "metadata": {},
   "outputs": [],
   "source": [
    "def full_board_check(board):\n",
    "    for i in range(1,10):\n",
    "        if space_check(board, i):\n",
    "            return False\n",
    "    return True"
   ]
  },
  {
   "cell_type": "code",
   "execution_count": 14,
   "metadata": {},
   "outputs": [],
   "source": [
    "def player_choice(board):\n",
    "    position = 0\n",
    "    while position not in [1,2,3,4,5,6,7,8,9] or not space_check(board, position):\n",
    "        position = int(input('Choose a position 1-9 '))\n",
    "    \n",
    "    return position"
   ]
  },
  {
   "cell_type": "code",
   "execution_count": 15,
   "metadata": {},
   "outputs": [],
   "source": [
    "def replay():\n",
    "    choce = input('Play Again: Yes or No: ')\n",
    "    return choce == 'Yes'"
   ]
  },
  {
   "cell_type": "code",
   "execution_count": null,
   "metadata": {},
   "outputs": [],
   "source": [
    "# WHILE LOOP FOR KEEP THE GAME RUNING\n",
    "print('Welcome to Tic Tac Toe')\n",
    "\n",
    "while True:\n",
    "    \n",
    "    # PLAY GAME\n",
    "    \n",
    "    # SET EVERYTHING (BOARD, WHO FIRST, CHOOSE MARKER X OR O)\n",
    "    the_board = [' ']*10\n",
    "    player1_marker, player2_marker = player_input()\n",
    "    \n",
    "    turn = choose_first()\n",
    "    print(turn + 'will go first.')\n",
    "    \n",
    "    play_game = print('Ready to play? Type y for YES or n for NO')\n",
    "    if play_game == 'y':\n",
    "        game_on = True\n",
    "    else:\n",
    "        game_on = False\n",
    "        \n",
    "    # GAME PLAY\n",
    "    while True:\n",
    "        if turn == 'Player 1':\n",
    "            \n",
    "            # DISPLAY BOARD\n",
    "            display_board(the_board)\n",
    "            # CHOOSE A POSITION\n",
    "            position = player_choice(the_board)\n",
    "            \n",
    "            # PLACE THE MARKER ON THE POSITION\n",
    "            place_marker(the_board, position, player1_marker)\n",
    "            \n",
    "            # CHECK IF THEY WON\n",
    "            if win_check(the_board, player1_marker):\n",
    "                display_board(the_board)\n",
    "                print('PLAYER ONE WON! ')\n",
    "                game_on = False\n",
    "            else:\n",
    "                if full_board_check(the_board):\n",
    "                    display_board(the_board)\n",
    "                    print('GAME TIE')\n",
    "                    game_on = False\n",
    "                else:\n",
    "                    turn = 'Player 2'\n",
    "                    \n",
    "        # PLAYER TWO TURN\n",
    "        else:\n",
    "            # DISPLAY BOARD\n",
    "            display_board(the_board)\n",
    "            # CHOOSE A POSITION\n",
    "            position = player_choice(the_board)\n",
    "            \n",
    "            # PLACE THE MARKER ON THE POSITION\n",
    "            place_marker(the_board, position, player2_marker)\n",
    "            \n",
    "            # CHECK IF THEY WON\n",
    "            if win_check(the_board, player2_marker):\n",
    "                display_board(the_board)\n",
    "                print('PLAYER  WON! ')\n",
    "                game_on = False\n",
    "            else:\n",
    "                if full_board_check(the_board):\n",
    "                    display_board(the_board)\n",
    "                    print('GAME TIE')\n",
    "                    game_on = False\n",
    "                else:\n",
    "                    turn = 'Player 1'\n",
    "        \n",
    "    # BREAK OUT THE WHILE LOOP IF NO replay()\n",
    "    if not replay():\n",
    "        break"
   ]
  },
  {
   "cell_type": "code",
   "execution_count": null,
   "metadata": {},
   "outputs": [],
   "source": []
  },
  {
   "cell_type": "code",
   "execution_count": null,
   "metadata": {},
   "outputs": [],
   "source": []
  },
  {
   "cell_type": "code",
   "execution_count": null,
   "metadata": {},
   "outputs": [],
   "source": []
  },
  {
   "cell_type": "code",
   "execution_count": null,
   "metadata": {},
   "outputs": [],
   "source": []
  }
 ],
 "metadata": {
  "kernelspec": {
   "display_name": "Python 3",
   "language": "python",
   "name": "python3"
  },
  "language_info": {
   "codemirror_mode": {
    "name": "ipython",
    "version": 3
   },
   "file_extension": ".py",
   "mimetype": "text/x-python",
   "name": "python",
   "nbconvert_exporter": "python",
   "pygments_lexer": "ipython3",
   "version": "3.7.1"
  }
 },
 "nbformat": 4,
 "nbformat_minor": 2
}
